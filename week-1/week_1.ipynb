{
  "cells": [
    {
      "cell_type": "code",
      "execution_count": 1,
      "metadata": {
        "id": "om9vlkH4nOVM"
      },
      "outputs": [],
      "source": [
        "import numpy as np\n",
        "import pandas as pd\n",
        "import math"
      ]
    },
    {
      "cell_type": "code",
      "execution_count": 130,
      "metadata": {
        "id": "TQDgxjLAv24A"
      },
      "outputs": [
        {
          "name": "stdout",
          "output_type": "stream",
          "text": [
            "   Value\n",
            "0   0.20\n",
            "1   0.30\n",
            "2   0.15\n",
            "3   0.40\n",
            "4   0.80\n",
            "[[0.2 ]\n",
            " [0.3 ]\n",
            " [0.15]\n",
            " [0.4 ]\n",
            " [0.8 ]]\n",
            "(5, 1)\n"
          ]
        }
      ],
      "source": [
        "# Week 1 Dataset\n",
        "df = pd.read_csv('https://raw.githubusercontent.com/MichiganDataScienceTeam/f25-building-ml-models/refs/heads/main/week-1/dataset.csv')\n",
        "\n",
        "# TODO: First view the input data using head(), then store the top 5 inputs in a np array\n",
        "# Hint: List[:x] can extract the first x elements of a python list\n",
        "print(df.head())\n",
        "inputs = df['Value'][:5]\n",
        "# inputs = inputs.to_numpy().reshape(1, 5)\n",
        "inputs = inputs.to_numpy().reshape(5, 1)\n",
        "print(inputs)\n",
        "print(inputs.shape)"
      ]
    },
    {
      "cell_type": "code",
      "execution_count": 131,
      "metadata": {
        "id": "uePJJq2VpUol"
      },
      "outputs": [],
      "source": [
        "def sigmoid(x: int) -> float:\n",
        "  \"\"\"Sigmoid activation function.\"\"\"\n",
        "  # TODO: Write the activation function\n",
        "  return 1 / (1 + np.exp(-x))"
      ]
    },
    {
      "cell_type": "code",
      "execution_count": 138,
      "metadata": {
        "id": "NoJ8Rw1inUdJ"
      },
      "outputs": [],
      "source": [
        "class Perceptron:\n",
        "  \"\"\"Neuron class object representing perceptron.\"\"\"\n",
        "\n",
        "  def __init__(self, num_inputs: int, weights = None) -> None:\n",
        "    \"\"\"Init weights and other information.\"\"\"\n",
        "\n",
        "    self.num_inputs = num_inputs\n",
        "\n",
        "    # TODO: declare a variable to store weights similar to how num_inputs is stored\n",
        "    # Define random weights in shape (1, num_inputs)\n",
        "    self.weights = np.random.rand(1, num_inputs)\n",
        "    # self.weights = np.random.uniform(0, 1, size=(1, num_inputs))\n",
        "    # print(f'{self.weights=}')\n",
        "\n",
        "  def feed_forward(self, inputs: np.array) -> float:\n",
        "    \"\"\"Forward propogation step.\"\"\"\n",
        "\n",
        "    output = None\n",
        "\n",
        "    # TODO: complete feed forward algorithm below\n",
        "    output = sigmoid(np.dot(self.weights, inputs))\n",
        "    # output = sigmoid(np.dot(np.squeeze(np.asarray(inputs)), np.squeeze(np.asarray(self.weights))))\n",
        "    # output = sigmoid(np.sum(inputs * self.weights))\n",
        "\n",
        "    return output"
      ]
    },
    {
      "cell_type": "code",
      "execution_count": 139,
      "metadata": {
        "id": "nfTkZIlKpFr1"
      },
      "outputs": [
        {
          "name": "stdout",
          "output_type": "stream",
          "text": [
            "perceptron.weights.shape=(1, 5)\n",
            "[[0.66048258]]\n"
          ]
        }
      ],
      "source": [
        "def main():\n",
        "  \"\"\"Test Perceptron class here.\"\"\"\n",
        "\n",
        "  # TODO: Declare your perceptron class below, run your feed_forward algorithm\n",
        "  # BONUS: declare an array of weights to pass into your perceptron so the output of the forward pass is 0.5\n",
        "  perceptron = Perceptron(inputs.size)\n",
        "  print(f'{perceptron.weights.shape=}')\n",
        "  print(perceptron.feed_forward(inputs))\n",
        "\n",
        "main()"
      ]
    },
    {
      "cell_type": "code",
      "execution_count": null,
      "metadata": {},
      "outputs": [],
      "source": []
    }
  ],
  "metadata": {
    "colab": {
      "provenance": []
    },
    "kernelspec": {
      "display_name": "mdst-onboarding",
      "language": "python",
      "name": "python3"
    },
    "language_info": {
      "codemirror_mode": {
        "name": "ipython",
        "version": 3
      },
      "file_extension": ".py",
      "mimetype": "text/x-python",
      "name": "python",
      "nbconvert_exporter": "python",
      "pygments_lexer": "ipython3",
      "version": "3.13.7"
    }
  },
  "nbformat": 4,
  "nbformat_minor": 0
}
