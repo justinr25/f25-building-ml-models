{
 "cells": [
  {
   "cell_type": "code",
   "execution_count": 1,
   "metadata": {
    "id": "QiALmb0nMc6V"
   },
   "outputs": [],
   "source": [
    "import math"
   ]
  },
  {
   "cell_type": "code",
   "execution_count": 2,
   "metadata": {
    "id": "NylQRsyzMX-2"
   },
   "outputs": [],
   "source": [
    "### Expressions ###\n",
    "class expression:\n",
    "    \"\"\"Base expression class. Represents a singular variable, like x.\"\"\"\n",
    "\n",
    "    def __init__(self, name):\n",
    "        \"\"\"Init function.\n",
    "        Args:\n",
    "            Name: name of the variable, like \"x.\"\n",
    "        \"\"\"\n",
    "        self.name = name\n",
    "\n",
    "    def eval(self, values):\n",
    "        \"\"\"Evaluation function, returns value of expression/variable given value parameters.\n",
    "\n",
    "        Args:\n",
    "            values (dict): a dicitonary of variable names:values.\n",
    "\n",
    "        Returns:\n",
    "            float representing value of variable at given evaluation.\n",
    "        \"\"\"\n",
    "        return values[self.name]\n",
    "\n",
    "    def diff(self, values, diffto):\n",
    "        \"\"\"Differentiate variable / expression with the current values.\n",
    "\n",
    "        Args:\n",
    "            values (dict): a dicitonary of variable names:values.\n",
    "            diffto (string): variable with respect to which differentiation happens.\n",
    "\n",
    "        Returns:\n",
    "        \"\"\"\n",
    "        # TODO: Implement diff for expression (hint, think about the two cases you'll have to handle)\n",
    "        if diffto == self.name:\n",
    "            return 1\n",
    "        else:\n",
    "            return 0\n",
    "\n",
    "    # the following are all overrides: (all other subsequent classes inherit)\n",
    "    def __add__(self, other):\n",
    "        if isinstance(other, (int, float)):\n",
    "            other = constant(other)\n",
    "        return addition(self, other)"
   ]
  },
  {
   "cell_type": "code",
   "execution_count": 3,
   "metadata": {
    "id": "qyG0CMQKMgNt"
   },
   "outputs": [],
   "source": [
    "class constant(expression):\n",
    "    \"\"\"Constant expression class. Represents a constant value, like 2 or 3.14.\"\"\"\n",
    "\n",
    "    def __init__(self, value):\n",
    "        \"\"\"Init function.\n",
    "        Args:\n",
    "            value: numeric value of the constant.\n",
    "        \"\"\"\n",
    "        self.value = value\n",
    "\n",
    "    def eval(self, values):\n",
    "        \"\"\"Evaluation function, returns the constant value.\n",
    "\n",
    "        Args:\n",
    "            values (dict): a dicitonary of variable names:values (not used for constants).\n",
    "\n",
    "        Returns:\n",
    "            float representing the constant value.\n",
    "        \"\"\"\n",
    "        return self.value\n",
    "\n",
    "    def diff(self, values, diffto):\n",
    "        \"\"\"Differentiate constant with respect to any variable.\n",
    "\n",
    "        Args:\n",
    "            values (dict): a dicitonary of variable names:values (not used).\n",
    "            diffto (string): variable with respect to which differentiation happens (not used).\n",
    "\n",
    "        Returns:\n",
    "        \"\"\"\n",
    "        # TODO: Implement diff for constant (hint: what's the derivative of 1 with respect to x?)\n",
    "        return 0"
   ]
  },
  {
   "cell_type": "code",
   "execution_count": 4,
   "metadata": {
    "id": "XyuKH89jMibE"
   },
   "outputs": [],
   "source": [
    "# An example class for the math library\n",
    "class addition(expression):\n",
    "    def __init__(self, first, second):\n",
    "        \"\"\"Addition of two expressions.\n",
    "\n",
    "        Args:\n",
    "            first (expression): an expression\n",
    "            second (expression): another expression\n",
    "        \"\"\"\n",
    "        self.first = first\n",
    "        self.second = second\n",
    "\n",
    "    def eval(self, values):\n",
    "        return self.first.eval(values) + self.second.eval(values)\n",
    "\n",
    "    def diff(self, values, diffto):\n",
    "        return self.first.diff(values, diffto) + self.second.diff(values, diffto)"
   ]
  },
  {
   "cell_type": "code",
   "execution_count": 5,
   "metadata": {
    "id": "XuD3rQspMlUO"
   },
   "outputs": [],
   "source": [
    "# TODO: Add additional classes derived from the expression class, e.g. subtraction, multiplication, division, and exponent"
   ]
  },
  {
   "cell_type": "code",
   "execution_count": null,
   "metadata": {},
   "outputs": [],
   "source": [
    "class subtration(expression):\n",
    "    def __init__(self, first, second):\n",
    "        \"\"\"Subtraction of two expressions.\n",
    "\n",
    "        Args:\n",
    "            first (expression): an expression\n",
    "            second (expression): another expression\n",
    "        \"\"\"\n",
    "        self.first = first\n",
    "        self.second = second\n",
    "\n",
    "    def eval(self, values):\n",
    "        return self.first.eval(values) - self.second.eval(values)\n",
    "\n",
    "    def diff(self, values, diffto):\n",
    "        return self.first.diff(values, diffto) - self.second.diff(values, diffto)"
   ]
  },
  {
   "cell_type": "code",
   "execution_count": null,
   "metadata": {},
   "outputs": [],
   "source": [
    "class multiplication(expression):\n",
    "    def __init__(self, first, second):\n",
    "        \"\"\"multiplication of two expressions.\n",
    "\n",
    "        Args:\n",
    "            first (expression): an expression\n",
    "            second (expression): another expression\n",
    "        \"\"\"\n",
    "        self.first = first\n",
    "        self.second = second\n",
    "\n",
    "    def eval(self, values):\n",
    "        return self.first.eval(values) * self.second.eval(values)\n",
    "\n",
    "    def diff(self, values, diffto):\n",
    "        return (self.first.eval(values) * self.second.diff(values, diffto)) \\\n",
    "            + (self.first.diff(values, diffto) * self.second.eval(values))"
   ]
  },
  {
   "cell_type": "code",
   "execution_count": null,
   "metadata": {},
   "outputs": [],
   "source": [
    "class division(expression):\n",
    "    def __init__(self, first, second):\n",
    "        \"\"\"exponent of two expressions.\n",
    "\n",
    "        Args:\n",
    "            first (expression): an expression\n",
    "            second (expression): another expression\n",
    "        \"\"\"\n",
    "        self.first = first\n",
    "        self.second = second\n",
    "\n",
    "    def eval(self, values):\n",
    "        return self.first.eval(values) / self.second.eval(values)\n",
    "\n",
    "    def diff(self, values, diffto):\n",
    "        # N'D - ND' / D^2\n",
    "        numerator = (self.first.diff(values, diffto) * self.second.eval(values)) \\\n",
    "            - (self.first.eval(values) * self.second.diff(values, diffto))\n",
    "        denominator = self.second.eval(values) ** 2\n",
    "        return numerator / denominator"
   ]
  },
  {
   "cell_type": "code",
   "execution_count": null,
   "metadata": {},
   "outputs": [],
   "source": [
    "class exponent(expression):\n",
    "    def __init__(self, first, second):\n",
    "        \"\"\"exponent of two expressions.\n",
    "\n",
    "        Args:\n",
    "            first (expression): an expression\n",
    "            second (expression): another expression\n",
    "        \"\"\"\n",
    "        self.first = first\n",
    "        self.second = second\n",
    "\n",
    "    def eval(self, values):\n",
    "        return self.first.eval(values) ** self.second.eval(values)\n",
    "\n",
    "    def diff(self, values, diffto):\n",
    "        # # (f^g)' = f^g * (g' * ln(f) + g * f'/f)\n",
    "        # base = self.first.eval(values)\n",
    "        # exponent = self.second.eval(values)\n",
    "        # base_derivative = self.first.diff(values, diffto)\n",
    "        # exponent_derivative = self.second.diff(values, diffto)\n",
    "        \n",
    "        # # f^g\n",
    "        # power_value = base ** exponent\n",
    "        \n",
    "        # # g' * ln(f) + g * f'/f\n",
    "        # term1 = exponent_derivative * math.log(base)\n",
    "        # term2 = exponent * (base_derivative / base)\n",
    "        \n",
    "        # return power_value * (term1 + term2)\n",
    "\n",
    "        # power rule -- generalized\n",
    "        return self.eval(values) * (natlog(self.first) * self.second).diff(\n",
    "            values, diffto\n",
    "        )"
   ]
  }
 ],
 "metadata": {
  "colab": {
   "provenance": []
  },
  "kernelspec": {
   "display_name": "mdst",
   "language": "python",
   "name": "python3"
  },
  "language_info": {
   "codemirror_mode": {
    "name": "ipython",
    "version": 3
   },
   "file_extension": ".py",
   "mimetype": "text/x-python",
   "name": "python",
   "nbconvert_exporter": "python",
   "pygments_lexer": "ipython3",
   "version": "3.13.7"
  }
 },
 "nbformat": 4,
 "nbformat_minor": 0
}
